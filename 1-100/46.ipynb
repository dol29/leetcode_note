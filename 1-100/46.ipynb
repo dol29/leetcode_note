{
 "cells": [
  {
   "cell_type": "code",
   "execution_count": 20,
   "metadata": {},
   "outputs": [],
   "source": [
    "给定一个数字，我们按照如下规则把它翻译为字符串：0 翻译成 “a” ，1 翻译成 “b”，……，11 翻译成 “l”，……，25 翻译成 “z”。\n",
    "一个数字可能有多个翻译。请编程实现一个函数，用来计算一个数字有多少种不同的翻译方法。\n",
    "示例 1:\n",
    "\n",
    "输入: 12258\n",
    "输出: 5\n",
    "解释: 12258有5种不同的翻译，分别是\"bccfi\", \"bwfi\", \"bczi\", \"mcfi\"和\"mzi\"\n",
    "    \n",
    "**算法思路与斐波那契数列差不多**"
   ]
  },
  {
   "cell_type": "code",
   "execution_count": 42,
   "metadata": {},
   "outputs": [],
   "source": [
    "#自己的代码，没有考虑到需要大于‘09’的情况\n",
    "def solution(num):\n",
    "    str_num=str(num)\n",
    "    ln=len(str_num)\n",
    "    if ln==1:\n",
    "        res=1\n",
    "    a=1\n",
    "    b=1\n",
    "    while ln>1:\n",
    "        print(str_num)\n",
    "        print(a,b)\n",
    "        if int(str_num[0:2])<26:\n",
    "            c=a+b\n",
    "            a=b\n",
    "            b=c\n",
    "        else:\n",
    "            a=b\n",
    "        ln=ln-1\n",
    "        str_num=str_num[1:]\n",
    "    res=b        \n",
    "    return res"
   ]
  },
  {
   "cell_type": "code",
   "execution_count": 40,
   "metadata": {},
   "outputs": [],
   "source": [
    "#精简的标准答案\n",
    "class Solution:\n",
    "    def translateNum(self, num: int) -> int:\n",
    "        s = str(num)\n",
    "        a = b = 1\n",
    "        for i in range(2, len(s) + 1):\n",
    "            a, b = (a + b if \"10\" <= s[i - 2:i] <= \"25\" else a), a\n",
    "        return a"
   ]
  }
 ],
 "metadata": {
  "kernelspec": {
   "display_name": "Python 3",
   "language": "python",
   "name": "python3"
  },
  "language_info": {
   "codemirror_mode": {
    "name": "ipython",
    "version": 3
   },
   "file_extension": ".py",
   "mimetype": "text/x-python",
   "name": "python",
   "nbconvert_exporter": "python",
   "pygments_lexer": "ipython3",
   "version": "3.7.6"
  }
 },
 "nbformat": 4,
 "nbformat_minor": 4
}
